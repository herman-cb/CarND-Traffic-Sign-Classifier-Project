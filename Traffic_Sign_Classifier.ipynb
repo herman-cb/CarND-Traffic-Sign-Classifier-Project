{
 "cells": [
  {
   "cell_type": "markdown",
   "metadata": {},
   "source": [
    "# Self-Driving Car Engineer Nanodegree\n",
    "\n",
    "## Deep Learning\n",
    "\n",
    "## Project: Build a Traffic Sign Recognition Classifier\n",
    "\n",
    "In this notebook, a template is provided for you to implement your functionality in stages which is required to successfully complete this project. If additional code is required that cannot be included in the notebook, be sure that the Python code is successfully imported and included in your submission, if necessary. Sections that begin with **'Implementation'** in the header indicate where you should begin your implementation for your project. Note that some sections of implementation are optional, and will be marked with **'Optional'** in the header.\n",
    "\n",
    "In addition to implementing code, there will be questions that you must answer which relate to the project and your implementation. Each section where you will answer a question is preceded by a **'Question'** header. Carefully read each question and provide thorough answers in the following text boxes that begin with **'Answer:'**. Your project submission will be evaluated based on your answers to each of the questions and the implementation you provide.\n",
    "\n",
    ">**Note:** Code and Markdown cells can be executed using the **Shift + Enter** keyboard shortcut. In addition, Markdown cells can be edited by typically double-clicking the cell to enter edit mode."
   ]
  },
  {
   "cell_type": "markdown",
   "metadata": {},
   "source": [
    "---\n",
    "## Step 0: Load The Data"
   ]
  },
  {
   "cell_type": "code",
   "execution_count": 2,
   "metadata": {
    "collapsed": false
   },
   "outputs": [
    {
     "name": "stderr",
     "output_type": "stream",
     "text": [
      "Using TensorFlow backend.\n"
     ]
    },
    {
     "name": "stdout",
     "output_type": "stream",
     "text": [
      "Downloading data from http://www.cs.toronto.edu/~kriz/cifar-10-python.tar.gz\n",
      "Untaring file...\n"
     ]
    }
   ],
   "source": [
    "# Load pickled data\n",
    "import pickle\n",
    "\n",
    "# TODO: Fill this in based on where you saved the training and testing data\n",
    "\n",
    "\n",
    "# training_file = 'train.p'\n",
    "# testing_file = 'test.p'\n",
    "\n",
    "# with open(training_file, mode='rb') as f:\n",
    "#     train = pickle.load(f)\n",
    "# with open(testing_file, mode='rb') as f:\n",
    "#     test = pickle.load(f)\n",
    "    \n",
    "from keras.datasets import cifar10\n",
    "\n",
    "(X_train, y_train), (X_test, y_test) = cifar10.load_data()\n",
    "\n",
    "y_train = y_train.reshape(-1)\n",
    "y_test = y_test.reshape(-1)\n",
    "    \n",
    "# X_train, y_train = train['features'], train['labels']\n",
    "# X_test, y_test = test['features'], test['labels']"
   ]
  },
  {
   "cell_type": "markdown",
   "metadata": {},
   "source": [
    "---\n",
    "\n",
    "## Step 1: Dataset Summary & Exploration\n",
    "\n",
    "The pickled data is a dictionary with 4 key/value pairs:\n",
    "\n",
    "- `'features'` is a 4D array containing raw pixel data of the traffic sign images, (num examples, width, height, channels).\n",
    "- `'labels'` is a 1D array containing the label/class id of the traffic sign. The file `signnames.csv` contains id -> name mappings for each id.\n",
    "- `'sizes'` is a list containing tuples, (width, height) representing the the original width and height the image.\n",
    "- `'coords'` is a list containing tuples, (x1, y1, x2, y2) representing coordinates of a bounding box around the sign in the image. **THESE COORDINATES ASSUME THE ORIGINAL IMAGE. THE PICKLED DATA CONTAINS RESIZED VERSIONS (32 by 32) OF THESE IMAGES**\n",
    "\n",
    "Complete the basic data summary below."
   ]
  },
  {
   "cell_type": "code",
   "execution_count": 3,
   "metadata": {
    "collapsed": false
   },
   "outputs": [
    {
     "name": "stdout",
     "output_type": "stream",
     "text": [
      "Number of training examples = 50000\n",
      "Number of testing examples = 10000\n",
      "Image data shape = (32, 32, 3)\n",
      "Number of classes = 10\n"
     ]
    }
   ],
   "source": [
    "### Replace each question mark with the appropriate value.\n",
    "import numpy as np\n",
    "\n",
    "# TODO: Number of training examples\n",
    "n_train = len(y_train)\n",
    "\n",
    "# TODO: Number of testing examples.\n",
    "n_test = len(y_test)\n",
    "\n",
    "# TODO: What's the shape of an traffic sign image?\n",
    "image_shape = format(X_train[0].shape)\n",
    "\n",
    "# TODO: How many unique classes/labels there are in the dataset.\n",
    "\n",
    "n_classes = len(np.unique(y_train))\n",
    "\n",
    "print(\"Number of training examples =\", n_train)\n",
    "print(\"Number of testing examples =\", n_test)\n",
    "print(\"Image data shape =\", image_shape)\n",
    "print(\"Number of classes =\", n_classes)"
   ]
  },
  {
   "cell_type": "markdown",
   "metadata": {},
   "source": [
    "Visualize the German Traffic Signs Dataset using the pickled file(s). This is open ended, suggestions include: plotting traffic sign images, plotting the count of each sign, etc.\n",
    "\n",
    "The [Matplotlib](http://matplotlib.org/) [examples](http://matplotlib.org/examples/index.html) and [gallery](http://matplotlib.org/gallery.html) pages are a great resource for doing visualizations in Python.\n",
    "\n",
    "**NOTE:** It's recommended you start with something simple first. If you wish to do more, come back to it after you've completed the rest of the sections."
   ]
  },
  {
   "cell_type": "code",
   "execution_count": 4,
   "metadata": {
    "collapsed": false
   },
   "outputs": [
    {
     "name": "stdout",
     "output_type": "stream",
     "text": [
      "{'Speed limit (80km/h)': 5000, 'No passing': 5000, 'Speed limit (60km/h)': 5000, 'End of speed limit (80km/h)': 5000, 'Speed limit (30km/h)': 5000, 'Speed limit (100km/h)': 5000, 'Speed limit (50km/h)': 5000, 'Speed limit (120km/h)': 5000, 'Speed limit (70km/h)': 5000, 'Speed limit (20km/h)': 5000}\n",
      "{'Speed limit (80km/h)': 1000, 'No passing': 1000, 'Speed limit (60km/h)': 1000, 'End of speed limit (80km/h)': 1000, 'Speed limit (30km/h)': 1000, 'Speed limit (100km/h)': 1000, 'Speed limit (50km/h)': 1000, 'Speed limit (120km/h)': 1000, 'Speed limit (70km/h)': 1000, 'Speed limit (20km/h)': 1000}\n"
     ]
    },
    {
     "data": {
      "image/png": "[encoded data removed]",
      "text/plain": [
       "<matplotlib.figure.Figure at 0x7f90a4091240>"
      ]
     },
     "metadata": {},
     "output_type": "display_data"
    }
   ],
   "source": [
    "### Data exploration visualization goes here.\n",
    "### Feel free to use as many code cells as needed.\n",
    "import matplotlib.pyplot as plt\n",
    "# Visualizations will be shown in the notebook.\n",
    "%matplotlib inline\n",
    "\n",
    "import csv\n",
    "reader = csv.reader(open('signnames.csv', 'r'))\n",
    "d = {}\n",
    "for row in reader:\n",
    "   k, v = row\n",
    "   if k.isdigit():\n",
    "       d[int(k)] = v\n",
    "\n",
    "unique, counts = np.unique(y_train, return_counts = True)\n",
    "unique = [d[u] for u in unique]\n",
    "hist_train = dict(zip(unique, counts))\n",
    "\n",
    "print(hist_train)\n",
    "\n",
    "unique, counts = np.unique(y_test, return_counts = True)\n",
    "unique = [d[u] for u in unique]\n",
    "\n",
    "hist_test = dict(zip(unique, counts))\n",
    "print(hist_test)\n",
    "\n",
    "plt.figure(figsize=(10, 10))\n",
    "plt.bar(range(len(hist_train)), hist_train.values(), align='center', color='blue', label='train data')\n",
    "plt.bar(range(len(hist_test)), hist_test.values(), align='center', color='green', label='test data')\n",
    "\n",
    "plt.xticks(range(len(hist_train)), hist_train.keys(), rotation='vertical', size='small')\n",
    "plt.legend()\n",
    "\n",
    "plt.show()\n",
    "\n",
    "# print(d[str(y_train[n])])\n",
    "# plt.imshow(X_train[n])"
   ]
  },
  {
   "cell_type": "markdown",
   "metadata": {},
   "source": [
    "----\n",
    "\n",
    "## Step 2: Design and Test a Model Architecture\n",
    "\n",
    "Design and implement a deep learning model that learns to recognize traffic signs. Train and test your model on the [German Traffic Sign Dataset](http://benchmark.ini.rub.de/?section=gtsrb&subsection=dataset).\n",
    "\n",
    "There are various aspects to consider when thinking about this problem:\n",
    "\n",
    "- Neural network architecture\n",
    "- Play around preprocessing techniques (normalization, rgb to grayscale, etc)\n",
    "- Number of examples per label (some have more than others).\n",
    "- Generate fake data.\n",
    "\n",
    "Here is an example of a [published baseline model on this problem](http://yann.lecun.com/exdb/publis/pdf/sermanet-ijcnn-11.pdf). It's not required to be familiar with the approach used in the paper but, it's good practice to try to read papers like these.\n",
    "\n",
    "**NOTE:** The LeNet-5 implementation shown in the [classroom](https://classroom.udacity.com/nanodegrees/nd013/parts/fbf77062-5703-404e-b60c-95b78b2f3f9e/modules/6df7ae49-c61c-4bb2-a23e-6527e69209ec/lessons/601ae704-1035-4287-8b11-e2c2716217ad/concepts/d4aca031-508f-4e0b-b493-e7b706120f81) at the end of the CNN lesson is a solid starting point. You'll have to change the number of classes and possibly the preprocessing, but aside from that it's plug and play!"
   ]
  },
  {
   "cell_type": "markdown",
   "metadata": {},
   "source": [
    "### Implementation\n",
    "\n",
    "Use the code cell (or multiple code cells, if necessary) to implement the first step of your project. Once you have completed your implementation and are satisfied with the results, be sure to thoroughly answer the questions that follow."
   ]
  },
  {
   "cell_type": "code",
   "execution_count": 5,
   "metadata": {
    "collapsed": false
   },
   "outputs": [],
   "source": [
    "### Preprocess the data here.\n",
    "### Feel free to use as many code cells as needed.\n",
    "\n",
    "from sklearn.utils import shuffle\n",
    "\n",
    "X_train, y_train = shuffle(X_train, y_train)\n",
    "\n"
   ]
  },
  {
   "cell_type": "markdown",
   "metadata": {},
   "source": [
    "### Question 1 \n",
    "\n",
    "_Describe how you preprocessed the data. Why did you choose that technique?_"
   ]
  },
  {
   "cell_type": "markdown",
   "metadata": {},
   "source": [
    "**Answer:** For preprocessing, I chose to shuffle the data at the beginning of each epoch. The reason for doing so is not to make the learned weights dependent on the sequence of training examples that the network sees during training. In other words, this way we are more sure that the network is learning each training example as its own rather than as a part of a sequence."
   ]
  },
  {
   "cell_type": "code",
   "execution_count": 6,
   "metadata": {
    "collapsed": false
   },
   "outputs": [
    {
     "name": "stdout",
     "output_type": "stream",
     "text": [
      "number of train examples = 40000\n",
      "number of validation examples = 10000\n"
     ]
    }
   ],
   "source": [
    "### Generate additional data (OPTIONAL!)\n",
    "### and split the data into training/validation/testing sets here.\n",
    "### Feel free to use as many code cells as needed.\n",
    "num_train = int(n_train * .8)\n",
    "num_validation = n_train-num_train\n",
    "\n",
    "X_validation = X_train[num_train:]\n",
    "y_validation = y_train[num_train:]\n",
    "X_train = X_train[0:num_train]\n",
    "y_train = y_train[0:num_train]\n",
    "\n",
    "n_train = num_train\n",
    "n_validation = num_validation\n",
    "\n",
    "print('number of train examples = {}'.format(n_train))\n",
    "print('number of validation examples = {}'.format(n_validation))\n"
   ]
  },
  {
   "cell_type": "markdown",
   "metadata": {},
   "source": [
    "### Question 2\n",
    "\n",
    "_Describe how you set up the training, validation and testing data for your model. **Optional**: If you generated additional data, how did you generate the data? Why did you generate the data? What are the differences in the new dataset (with generated data) from the original dataset?_"
   ]
  },
  {
   "cell_type": "markdown",
   "metadata": {},
   "source": [
    "**Answer:**"
   ]
  },
  {
   "cell_type": "code",
   "execution_count": 7,
   "metadata": {
    "collapsed": false
   },
   "outputs": [],
   "source": [
    "### Define your architecture here.\n",
    "### Feel free to use as many code cells as needed.\n",
    "from tensorflow.contrib.layers import flatten\n",
    "\n",
    "def LeNet(x):    \n",
    "    # Arguments used for tf.truncated_normal, randomly defines variables for the weights and biases for each layer\n",
    "    mu = 0\n",
    "    sigma = 0.1\n",
    "    \n",
    "    # SOLUTION: Layer 1: Convolutional. Input = 32x32x1. Output = 28x28x4.\n",
    "    conv1_W = tf.Variable(tf.truncated_normal(shape=(5, 5, 3, 4), mean = mu, stddev = sigma))\n",
    "    conv1_b = tf.Variable(tf.zeros(4))\n",
    "    conv1   = tf.nn.conv2d(x, conv1_W, strides=[1, 1, 1, 1], padding='VALID') + conv1_b\n",
    "\n",
    "    # SOLUTION: Activation.\n",
    "    conv1 = tf.nn.relu(conv1)\n",
    "    \n",
    "\n",
    "#     SOLUTION: Pooling. Input = 28x28x6. Output = 14x14x4.\n",
    "    conv1 = tf.nn.max_pool(conv1, ksize=[1, 2, 2, 1], strides=[1, 2, 2, 1], padding='VALID')\n",
    "    \n",
    "    # SOLUTION: Layer 1: Convolutional. Input = 32x32x1. Output = 14x14x4.\n",
    "    conv1_W = tf.Variable(tf.truncated_normal(shape=(3, 3, 4, 4), mean = mu, stddev = sigma))\n",
    "    conv1_b = tf.Variable(tf.zeros(4))\n",
    "    conv1   = tf.nn.conv2d(conv1, conv1_W, strides=[1, 1, 1, 1], padding='SAME') + conv1_b\n",
    "\n",
    "    # SOLUTION: Activation.\n",
    "    conv1 = tf.nn.relu(conv1)\n",
    "\n",
    "    # SOLUTION: Layer 2: Convolutional. Output = 20x20x16.\n",
    "    conv2_W = tf.Variable(tf.truncated_normal(shape=(5, 5, 4, 16), mean = mu, stddev = sigma))\n",
    "    conv2_b = tf.Variable(tf.zeros(16))\n",
    "    conv2   = tf.nn.conv2d(conv1, conv2_W, strides=[1, 1, 1, 1], padding='VALID') + conv2_b\n",
    "    \n",
    "    # SOLUTION: Activation.\n",
    "    conv2 = tf.nn.relu(conv2)\n",
    "\n",
    "    # SOLUTION: Pooling. Input = 10x10x16. Output = 5x5x16.\n",
    "    conv2 = tf.nn.max_pool(conv2, ksize=[1, 2, 2, 1], strides=[1, 2, 2, 1], padding='VALID')\n",
    "\n",
    "    # SOLUTION: Flatten. Input = 5x5x16. Output = 400.\n",
    "    fc0   = flatten(conv2)\n",
    "    \n",
    "    # SOLUTION: Layer 3: Fully Connected. Input = 400. Output = 200.\n",
    "    fc1_W = tf.Variable(tf.truncated_normal(shape=(400, 300), mean = mu, stddev = sigma))\n",
    "    fc1_b = tf.Variable(tf.zeros(300))\n",
    "    fc1   = tf.matmul(fc0, fc1_W) + fc1_b\n",
    "    \n",
    "    # SOLUTION: Activation.\n",
    "    fc1    = tf.nn.relu(fc1)\n",
    "\n",
    "    # SOLUTION: Layer 4: Fully Connected. Input = 120. Output = 84.\n",
    "    fc2_W  = tf.Variable(tf.truncated_normal(shape=(300, 168), mean = mu, stddev = sigma))\n",
    "    fc2_b  = tf.Variable(tf.zeros(168))\n",
    "    fc2    = tf.matmul(fc1, fc2_W) + fc2_b\n",
    "    \n",
    "    # SOLUTION: Activation.\n",
    "    fc2    = tf.nn.relu(fc2)\n",
    "\n",
    "    # SOLUTION: Layer 5: Fully Connected. Input = 84. Output = 43 (n_classes).\n",
    "    fc3_W  = tf.Variable(tf.truncated_normal(shape=(168, n_classes), mean = mu, stddev = sigma))\n",
    "    fc3_b  = tf.Variable(tf.zeros(n_classes))\n",
    "    logits = tf.matmul(fc2, fc3_W) + fc3_b\n",
    "    \n",
    "    return logits"
   ]
  },
  {
   "cell_type": "markdown",
   "metadata": {},
   "source": [
    "### Question 3\n",
    "\n",
    "_What does your final architecture look like? (Type of model, layers, sizes, connectivity, etc.)  For reference on how to build a deep neural network using TensorFlow, see [Deep Neural Network in TensorFlow\n",
    "](https://classroom.udacity.com/nanodegrees/nd013/parts/fbf77062-5703-404e-b60c-95b78b2f3f9e/modules/6df7ae49-c61c-4bb2-a23e-6527e69209ec/lessons/b516a270-8600-4f93-a0a3-20dfeabe5da6/concepts/83a3a2a2-a9bd-4b7b-95b0-eb924ab14432) from the classroom._\n"
   ]
  },
  {
   "cell_type": "markdown",
   "metadata": {},
   "source": [
    "**Answer:** It is a convolutional neural network with three convoltional layers each followed by ReLU non linear activation. The first and third convolution layers are followed by max pooling layers to prevent overfitting. At the end, there are two fully connected layers to reduce the feature space to a vector of size 43 (the total number of distinct traffic signs that the network learns."
   ]
  },
  {
   "cell_type": "code",
   "execution_count": 8,
   "metadata": {
    "collapsed": false,
    "scrolled": true
   },
   "outputs": [
    {
     "name": "stdout",
     "output_type": "stream",
     "text": [
      "WARNING:tensorflow:From <ipython-input-8-be4103911932>:33 in <module>.: initialize_all_variables (from tensorflow.python.ops.variables) is deprecated and will be removed after 2017-03-02.\n",
      "Instructions for updating:\n",
      "Use `tf.global_variables_initializer` instead.\n",
      "Training...\n",
      "\n",
      "EPOCH 1 ...\n",
      "Validation Accuracy = 0.321\n",
      "\n",
      "EPOCH 2 ...\n",
      "Validation Accuracy = 0.360\n",
      "\n",
      "EPOCH 3 ...\n",
      "Validation Accuracy = 0.386\n",
      "\n",
      "EPOCH 4 ...\n",
      "Validation Accuracy = 0.420\n",
      "\n",
      "EPOCH 5 ...\n",
      "Validation Accuracy = 0.421\n",
      "\n",
      "EPOCH 6 ...\n",
      "Validation Accuracy = 0.435\n",
      "\n",
      "EPOCH 7 ...\n",
      "Validation Accuracy = 0.438\n",
      "\n",
      "EPOCH 8 ...\n",
      "Validation Accuracy = 0.446\n",
      "\n",
      "EPOCH 9 ...\n",
      "Validation Accuracy = 0.452\n",
      "\n",
      "EPOCH 10 ...\n",
      "Validation Accuracy = 0.454\n",
      "\n",
      "EPOCH 11 ...\n",
      "Validation Accuracy = 0.456\n",
      "\n",
      "EPOCH 12 ...\n",
      "Validation Accuracy = 0.448\n",
      "\n",
      "EPOCH 13 ...\n",
      "Validation Accuracy = 0.448\n",
      "\n",
      "EPOCH 14 ...\n",
      "Validation Accuracy = 0.447\n",
      "\n",
      "EPOCH 15 ...\n",
      "Validation Accuracy = 0.447\n",
      "\n",
      "EPOCH 16 ...\n",
      "Validation Accuracy = 0.444\n",
      "\n",
      "EPOCH 17 ...\n",
      "Validation Accuracy = 0.443\n",
      "\n",
      "EPOCH 18 ...\n",
      "Validation Accuracy = 0.429\n",
      "\n",
      "EPOCH 19 ...\n",
      "Validation Accuracy = 0.436\n",
      "\n",
      "EPOCH 20 ...\n",
      "Validation Accuracy = 0.434\n",
      "\n",
      "EPOCH 21 ...\n",
      "Validation Accuracy = 0.429\n",
      "\n",
      "EPOCH 22 ...\n",
      "Validation Accuracy = 0.427\n",
      "\n",
      "EPOCH 23 ...\n",
      "Validation Accuracy = 0.416\n",
      "\n",
      "EPOCH 24 ...\n",
      "Validation Accuracy = 0.424\n",
      "\n",
      "EPOCH 25 ...\n",
      "Validation Accuracy = 0.419\n",
      "\n",
      "EPOCH 26 ...\n",
      "Validation Accuracy = 0.413\n",
      "\n",
      "EPOCH 27 ...\n",
      "Validation Accuracy = 0.419\n",
      "\n",
      "EPOCH 28 ...\n",
      "Validation Accuracy = 0.416\n",
      "\n",
      "EPOCH 29 ...\n",
      "Validation Accuracy = 0.425\n",
      "\n",
      "EPOCH 30 ...\n",
      "Validation Accuracy = 0.421\n",
      "\n",
      "EPOCH 31 ...\n",
      "Validation Accuracy = 0.413\n",
      "\n",
      "EPOCH 32 ...\n",
      "Validation Accuracy = 0.411\n",
      "\n",
      "EPOCH 33 ...\n",
      "Validation Accuracy = 0.406\n",
      "\n",
      "EPOCH 34 ...\n",
      "Validation Accuracy = 0.414\n",
      "\n",
      "EPOCH 35 ...\n",
      "Validation Accuracy = 0.412\n",
      "\n",
      "EPOCH 36 ...\n",
      "Validation Accuracy = 0.407\n",
      "\n",
      "EPOCH 37 ...\n",
      "Validation Accuracy = 0.408\n",
      "\n",
      "EPOCH 38 ...\n",
      "Validation Accuracy = 0.396\n",
      "\n",
      "EPOCH 39 ...\n",
      "Validation Accuracy = 0.404\n",
      "\n",
      "EPOCH 40 ...\n",
      "Validation Accuracy = 0.406\n",
      "\n",
      "Model saved\n"
     ]
    }
   ],
   "source": [
    "### Train your model here.\n",
    "### Feel free to use as many code cells as needed.\n",
    "import tensorflow as tf\n",
    "x = tf.placeholder(tf.float32, (None, 32, 32, 3))\n",
    "y = tf.placeholder(tf.int32, (None))\n",
    "one_hot_y = tf.one_hot(y, n_classes)\n",
    "\n",
    "BATCH_SIZE = 128\n",
    "EPOCHS = 40\n",
    "rate = 0.001\n",
    "\n",
    "logits = LeNet(x)\n",
    "cross_entropy = tf.nn.softmax_cross_entropy_with_logits(logits, one_hot_y)\n",
    "loss_operation = tf.reduce_mean(cross_entropy)\n",
    "optimizer = tf.train.AdamOptimizer(learning_rate = rate)\n",
    "training_operation = optimizer.minimize(loss_operation)\n",
    "\n",
    "correct_prediction = tf.equal(tf.argmax(logits, 1), tf.argmax(one_hot_y, 1))\n",
    "accuracy_operation = tf.reduce_mean(tf.cast(correct_prediction, tf.float32))\n",
    "saver = tf.train.Saver()\n",
    "\n",
    "def evaluate(X_data, y_data):\n",
    "    num_examples = len(X_data)\n",
    "    total_accuracy = 0\n",
    "    sess = tf.get_default_session()\n",
    "    for offset in range(0, num_examples, BATCH_SIZE):\n",
    "        batch_x, batch_y = X_data[offset:offset+BATCH_SIZE], y_data[offset:offset+BATCH_SIZE]\n",
    "        accuracy = sess.run(accuracy_operation, feed_dict={x: batch_x, y: batch_y})\n",
    "        total_accuracy += (accuracy * len(batch_x))\n",
    "    return total_accuracy / num_examples\n",
    "\n",
    "with tf.Session() as sess:\n",
    "    sess.run(tf.initialize_all_variables())\n",
    "    num_examples = len(X_train)\n",
    "    \n",
    "    print(\"Training...\")\n",
    "    print()\n",
    "    for i in range(EPOCHS):\n",
    "        X_train, y_train = shuffle(X_train, y_train)\n",
    "        for offset in range(0, num_examples, BATCH_SIZE):\n",
    "            end = offset + BATCH_SIZE\n",
    "            batch_x, batch_y = X_train[offset:end], y_train[offset:end]\n",
    "            sess.run(training_operation, feed_dict={x: batch_x, y: batch_y})\n",
    "            \n",
    "        validation_accuracy = evaluate(X_validation, y_validation)\n",
    "        print(\"EPOCH {} ...\".format(i+1))\n",
    "        print(\"Validation Accuracy = {:.3f}\".format(validation_accuracy))\n",
    "        print()\n",
    "        \n",
    "    saver.save(sess, 'traffic-net')\n",
    "    print(\"Model saved\")"
   ]
  },
  {
   "cell_type": "markdown",
   "metadata": {},
   "source": [
    "### Question 4\n",
    "\n",
    "_How did you train your model? (Type of optimizer, batch size, epochs, hyperparameters, etc.)_\n"
   ]
  },
  {
   "cell_type": "markdown",
   "metadata": {},
   "source": [
    "**Answer:** The model was trained using AdamOptimizer using an initial learning rate of 0.001, batch size of 128. The training was run for 40 epochs. "
   ]
  },
  {
   "cell_type": "markdown",
   "metadata": {},
   "source": [
    "### Question 5\n",
    "\n",
    "\n",
    "_What approach did you take in coming up with a solution to this problem? It may have been a process of trial and error, in which case, outline the steps you took to get to the final solution and why you chose those steps. Perhaps your solution involved an already well known implementation or architecture. In this case, discuss why you think this is suitable for the current problem._"
   ]
  },
  {
   "cell_type": "markdown",
   "metadata": {},
   "source": [
    "**Answer:** I started my solution by slightly modifying the LeNet architecture for handwritten digits recognition. Since the input images are composed of three channels, I had to change the first convolutional layer to accept three input channels. The modifications are as follows: \n",
    "1. The first convolution layer has 3 input channels instead of 1. \n",
    "2. The first convolution layer has 4 output channels instead of 6.\n",
    "3. Added an extra convolution layer after the first convolution layer with a receptive field size of 3X3 and 4 output features.\n",
    "4. The third convolution layer is changed to accept 4 input channels instead of 6.\n",
    "5. The first fully connected layer is changed to output 300 features instead of 120.\n",
    "6. The second fully connected layer is changed to output 168 features instead of 84. Also it takes in 300 input features instead of 120.\n",
    "7. The third fully connected layer is changed to output 43 output features. Also it takes in 168 input features instead of 84.\n"
   ]
  },
  {
   "cell_type": "markdown",
   "metadata": {},
   "source": [
    "---\n",
    "\n",
    "## Step 3: Test a Model on New Images\n",
    "\n",
    "Take several pictures of traffic signs that you find on the web or around you (at least five), and run them through your classifier on your computer to produce example results. The classifier might not recognize some local signs but it could prove interesting nonetheless.\n",
    "\n",
    "You may find `signnames.csv` useful as it contains mappings from the class id (integer) to the actual sign name."
   ]
  },
  {
   "cell_type": "markdown",
   "metadata": {},
   "source": [
    "### Implementation\n",
    "\n",
    "Use the code cell (or multiple code cells, if necessary) to implement the first step of your project. Once you have completed your implementation and are satisfied with the results, be sure to thoroughly answer the questions that follow."
   ]
  },
  {
   "cell_type": "code",
   "execution_count": 9,
   "metadata": {
    "collapsed": false
   },
   "outputs": [
    {
     "name": "stdout",
     "output_type": "stream",
     "text": [
      "Speed limit (60km/h)\n",
      "No passing\n",
      "Speed limit (80km/h)\n",
      "Speed limit (30km/h)\n",
      "Speed limit (30km/h)\n"
     ]
    },
    {
     "data": {
      "image/png": "[encoded data removed]",
      "text/plain": [
       "<matplotlib.figure.Figure at 0x7f9038043278>"
      ]
     },
     "metadata": {},
     "output_type": "display_data"
    },
    {
     "data": {
      "image/png": "[encoded data removed]",
      "text/plain": [
       "<matplotlib.figure.Figure at 0x7f90380d45f8>"
      ]
     },
     "metadata": {},
     "output_type": "display_data"
    },
    {
     "data": {
      "image/png": "[encoded data removed]",
      "text/plain": [
       "<matplotlib.figure.Figure at 0x7f90488c3ef0>"
      ]
     },
     "metadata": {},
     "output_type": "display_data"
    },
    {
     "data": {
      "image/png": "[encoded data removed]",
      "text/plain": [
       "<matplotlib.figure.Figure at 0x7f90380f2588>"
      ]
     },
     "metadata": {},
     "output_type": "display_data"
    },
    {
     "data": {
      "image/png": "[encoded data removed]",
      "text/plain": [
       "<matplotlib.figure.Figure at 0x7f9048848ba8>"
      ]
     },
     "metadata": {},
     "output_type": "display_data"
    }
   ],
   "source": [
    "### Load the images and plot them here.\n",
    "### Feel free to use as many code cells as needed.\n",
    "\n",
    "signs = {}\n",
    "f = open('signnames.csv', 'r')\n",
    "c = 0\n",
    "for line in f.readlines():\n",
    "    c = c + 1\n",
    "    if c == 1:\n",
    "        continue\n",
    "    \n",
    "    s = line.strip().split(',')\n",
    "    code = int(s[0])\n",
    "    name = s[1]\n",
    "    signs[code] = name\n",
    "    \n",
    "\n",
    "import scipy\n",
    "import glob\n",
    "\n",
    "files = ['30.png']\n",
    "\n",
    "prediction = tf.argmax(logits, 1)\n",
    "\n",
    "sess = tf.Session()\n",
    "saver = tf.train.import_meta_graph('traffic-net.meta')\n",
    "saver.restore(sess, tf.train.latest_checkpoint('./'))\n",
    "all_vars = tf.get_collection('vars')\n",
    "for v in all_vars:\n",
    "    sess.run(v)\n",
    "\n",
    "for fname in glob.glob('./test/*.*'):\n",
    "    image = scipy.misc.imresize(scipy.misc.imread(fname), (32, 32, 3))\n",
    "    plt.figure(figsize=(1,1))\n",
    "#     print('image shape = {}'.format(image.shape))\n",
    "    plt.imshow(image, cmap=\"gray\")  \n",
    "    image = image.reshape(1, 32, 32, 3)\n",
    "    p = sess.run(prediction, feed_dict={x: image})\n",
    "    print(signs[p[0]])\n",
    "\n",
    "\n",
    "\n",
    "# indexes = np.random.randint(0, len(X_test), size=5)\n",
    "\n",
    "# for index in indexes:\n",
    "#     image = X_train[index].squeeze()\n",
    "#     plt.figure(figsize=(1,1))\n",
    "#     print('image shape = {}'.format(image.shape))\n",
    "#     plt.imshow(image, cmap=\"gray\")\n",
    "#     image = image.reshape(1, 32, 32, 3)\n",
    "#     p = sess.run(prediction, feed_dict={x: image})\n",
    "#     print(signs[p[0]])\n",
    "    \n",
    "#     print(signs[y_train[index]])\n",
    "    \n",
    "\n",
    "\n",
    "\n",
    "    "
   ]
  },
  {
   "cell_type": "markdown",
   "metadata": {},
   "source": [
    "### Question 6\n",
    "\n",
    "_Choose five candidate images of traffic signs and provide them in the report. Are there any particular qualities of the image(s) that might make classification difficult? It could be helpful to plot the images in the notebook._\n",
    "\n"
   ]
  },
  {
   "cell_type": "markdown",
   "metadata": {},
   "source": [
    "**Answer:** Two of the five images I found in a quick google search were not recognized correctly. One was \"keep-right' image which was falsely classified as 'ahead only' and the 'no honking' which was incorrectly recognized as 'no-passing'. The first mis-classification is probably because the keep-right signs in Germany and USA are different. The second mis-classification is because the training set does not contain any labelled images for 'no-honking'."
   ]
  },
  {
   "cell_type": "code",
   "execution_count": 10,
   "metadata": {
    "collapsed": false
   },
   "outputs": [
    {
     "name": "stdout",
     "output_type": "stream",
     "text": [
      "Test accuracy = 1.000\n",
      "Test accuracy = 0.000\n",
      "Test accuracy = 0.000\n",
      "Test accuracy = 0.000\n",
      "Test accuracy = 0.000\n"
     ]
    }
   ],
   "source": [
    "### Run the predictions here.\n",
    "### Feel free to use as many code cells as needed.\n",
    "\n",
    "indexes = np.random.randint(0, len(X_test), size=5)\n",
    "with tf.Session() as sess:\n",
    "    saver.restore(sess, tf.train.latest_checkpoint('.'))\n",
    "    for index in indexes:\n",
    "        test_accuracy = evaluate(X_test[index:index+1], y_test[index:index+1])\n",
    "        print('Test accuracy = {:0.3f}'.format(test_accuracy))"
   ]
  },
  {
   "cell_type": "markdown",
   "metadata": {},
   "source": [
    "### Question 7\n",
    "\n",
    "_Is your model able to perform equally well on captured pictures when compared to testing on the dataset? The simplest way to do this check the accuracy of the predictions. For example, if the model predicted 1 out of 5 signs correctly, it's 20% accurate._\n",
    "\n",
    "_**NOTE:** You could check the accuracy manually by using `signnames.csv` (same directory). This file has a mapping from the class id (0-42) to the corresponding sign name. So, you could take the class id the model outputs, lookup the name in `signnames.csv` and see if it matches the sign from the image._\n"
   ]
  },
  {
   "cell_type": "markdown",
   "metadata": {},
   "source": [
    "**Answer:** No, the model is about 60% accurate on the captured images, while on the test dataset it is about 80% accurate."
   ]
  },
  {
   "cell_type": "code",
   "execution_count": null,
   "metadata": {
    "collapsed": false
   },
   "outputs": [],
   "source": [
    "### Visualize the softmax probabilities here.\n",
    "### Feel free to use as many code cells as needed.\n",
    "\n",
    "sess = tf.Session()\n",
    "saver = tf.train.import_meta_graph('traffic-net.meta')\n",
    "saver.restore(sess, tf.train.latest_checkpoint('./'))\n",
    "all_vars = tf.get_collection('vars')\n",
    "for v in all_vars:\n",
    "    sess.run(v)\n",
    "    \n",
    "test_images = np.zeros((5, 32, 32, 3))\n",
    "i = 0\n",
    "filenames = glob.glob('./test/*.*')\n",
    "for fname in filenames:\n",
    "    test_images[i] = scipy.misc.imresize(scipy.misc.imread(fname), (32, 32, 3))\n",
    "    plt.figure(figsize=(1,1))\n",
    "\n",
    "    plt.imshow(test_images[i])\n",
    "    i += 1\n",
    "\n",
    "probs = tf.nn.softmax(logits)\n",
    "    \n",
    "# p = sess.run(prediction, feed_dict={x: test_images})\n",
    "# l = sess.run(logits, feed_dict={x: test_images})\n",
    "\n",
    "\n",
    "\n",
    "top_k = sess.run(tf.nn.top_k(probs, k=5), feed_dict={x:test_images})\n",
    "probs1 = sess.run(probs, feed_dict={x:test_images})\n",
    "\n",
    "f, axarr = plt.subplots(5, sharex=True)\n",
    "plt.tight_layout()\n",
    "\n",
    "for i in range(5):\n",
    "    pass\n",
    "    print('top 5 predictions = {}'.format([signs[code] for code in top_k.indices[i]]))\n",
    "    axarr[i].plot(probs1[i])\n",
    "    axarr[i].set_title(filenames[i])\n"
   ]
  },
  {
   "cell_type": "markdown",
   "metadata": {},
   "source": [
    "### Question 8\n",
    "\n",
    "*Use the model's softmax probabilities to visualize the **certainty** of its predictions, [`tf.nn.top_k`](https://www.tensorflow.org/versions/r0.12/api_docs/python/nn.html#top_k) could prove helpful here. Which predictions is the model certain of? Uncertain? If the model was incorrect in its initial prediction, does the correct prediction appear in the top k? (k should be 5 at most)*\n",
    "\n",
    "`tf.nn.top_k` will return the values and indices (class ids) of the top k predictions. So if k=3, for each sign, it'll return the 3 largest probabilities (out of a possible 43) and the correspoding class ids.\n",
    "\n",
    "Take this numpy array as an example:\n",
    "\n",
    "```\n",
    "# (5, 6) array\n",
    "a = np.array([[ 0.24879643,  0.07032244,  0.12641572,  0.34763842,  0.07893497,\n",
    "         0.12789202],\n",
    "       [ 0.28086119,  0.27569815,  0.08594638,  0.0178669 ,  0.18063401,\n",
    "         0.15899337],\n",
    "       [ 0.26076848,  0.23664738,  0.08020603,  0.07001922,  0.1134371 ,\n",
    "         0.23892179],\n",
    "       [ 0.11943333,  0.29198961,  0.02605103,  0.26234032,  0.1351348 ,\n",
    "         0.16505091],\n",
    "       [ 0.09561176,  0.34396535,  0.0643941 ,  0.16240774,  0.24206137,\n",
    "         0.09155967]])\n",
    "```\n",
    "\n",
    "Running it through `sess.run(tf.nn.top_k(tf.constant(a), k=3))` produces:\n",
    "\n",
    "```\n",
    "TopKV2(values=array([[ 0.34763842,  0.24879643,  0.12789202],\n",
    "       [ 0.28086119,  0.27569815,  0.18063401],\n",
    "       [ 0.26076848,  0.23892179,  0.23664738],\n",
    "       [ 0.29198961,  0.26234032,  0.16505091],\n",
    "       [ 0.34396535,  0.24206137,  0.16240774]]), indices=array([[3, 0, 5],\n",
    "       [0, 1, 4],\n",
    "       [0, 5, 1],\n",
    "       [1, 3, 5],\n",
    "       [1, 4, 3]], dtype=int32))\n",
    "```\n",
    "\n",
    "Looking just at the first row we get `[ 0.34763842,  0.24879643,  0.12789202]`, you can confirm these are the 3 largest probabilities in `a`. You'll also notice `[3, 0, 5]` are the corresponding indices."
   ]
  },
  {
   "cell_type": "markdown",
   "metadata": {},
   "source": [
    "**Answer:** In my case since, one of the test images (no-honking) was not even in the original training set, it is not present in the top 5 predictions, as expected. The other incorrectly classified image is also not present in the top 5 predictions because the training set did not contain this type of sign."
   ]
  },
  {
   "cell_type": "markdown",
   "metadata": {},
   "source": [
    "> **Note**: Once you have completed all of the code implementations and successfully answered each question above, you may finalize your work by exporting the iPython Notebook as an HTML document. You can do this by using the menu above and navigating to  \\n\",\n",
    "    \"**File -> Download as -> HTML (.html)**. Include the finished document along with this notebook as your submission."
   ]
  },
  {
   "cell_type": "code",
   "execution_count": null,
   "metadata": {
    "collapsed": true
   },
   "outputs": [],
   "source": []
  }
 ],
 "metadata": {
  "anaconda-cloud": {},
  "kernelspec": {
   "display_name": "Python 3",
   "language": "python",
   "name": "python3"
  },
  "language_info": {
   "codemirror_mode": {
    "name": "ipython",
    "version": 3
   },
   "file_extension": ".py",
   "mimetype": "text/x-python",
   "name": "python",
   "nbconvert_exporter": "python",
   "pygments_lexer": "ipython3",
   "version": "3.5.2"
  },
  "widgets": {
   "state": {},
   "version": "1.1.2"
  }
 },
 "nbformat": 4,
 "nbformat_minor": 1
}
